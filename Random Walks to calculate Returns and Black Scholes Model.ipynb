{
 "cells": [
  {
   "cell_type": "markdown",
   "metadata": {},
   "source": [
    "# Random Walks and the Black Scholes Model"
   ]
  },
  {
   "cell_type": "markdown",
   "metadata": {},
   "source": [
    "## Wiener's Process "
   ]
  },
  {
   "cell_type": "markdown",
   "metadata": {},
   "source": [
    "$W(t)$ has independent increments: future increments $W(t+dt)-W(t)$ are independent of past values.\\\n",
    "$W(t)$ has gaussian increments: $W(t+dt)-W(t)$ is normally distributed with mean 0 and standard deviation $dt$.\\\n",
    "$\\longrightarrow W(t+dt)-W(t) \\approx N(0,dt)$\\\n",
    "Daily and monthly returns have approximately normal distributions so they can be modeled by a Wiener process."
   ]
  },
  {
   "cell_type": "markdown",
   "metadata": {},
   "source": [
    "## Random behaviour of stock prices: Differential equation "
   ]
  },
  {
   "cell_type": "markdown",
   "metadata": {},
   "source": [
    "$$ dS = \\mu S dt + \\sigma S dX $$ \n",
    "- $dS = S(t+dt) - S(t)$\n",
    "- $\\mu S dt$: Deterministic part\n",
    "- $\\sigma S dX $: Stochastic part\n",
    "\n",
    "\n",
    "- $E[dX] = 0$\n",
    "- $E[dX^2]=dt$"
   ]
  },
  {
   "cell_type": "markdown",
   "metadata": {},
   "source": [
    "## Ito's Lemma"
   ]
  },
  {
   "cell_type": "markdown",
   "metadata": {},
   "source": [
    "If we have a function F(X) that depends on a stochastic variable X(t) (brownian motion) to calculate the differential of the function F(X) we use Taylor expansion:\n",
    "\n",
    "$$ F(X+dX) = F(X) + \\frac{dF(X)}{dX}dX + \\frac{1}{2}\\frac{d^2F(X)}{X^2}dX^2$$ \n",
    "\n",
    "Since $E[dX^2]=dt$ and $F(X+dX) - F(X) = dF(X)$ we derive Ito's Lemma:\n",
    "\n",
    "$$ dF(x) =  \\frac{dF(X)}{dX}dX + \\frac{1}{2}\\frac{d^2F(X)}{X^2}dt$$ "
   ]
  },
  {
   "cell_type": "markdown",
   "metadata": {},
   "source": [
    "## Higher Order Ito's Lemma"
   ]
  },
  {
   "cell_type": "markdown",
   "metadata": {},
   "source": [
    "Option price V(S,t):\\\n",
    "$$V(S+\\Delta S,t+\\Delta t) = V(S,t) + \\frac{\\partial V}{\\partial t}\\Delta t + \\frac{\\partial V}{\\partial S}\\Delta S \n",
    "+ \\frac{1}{2}( \\frac{\\partial^2 V}{\\partial t^2}\\Delta t^2  + 2 \\frac{\\partial^2 V}{\\partial t \\partial S}\\Delta t \\Delta S + \\frac{\\partial^2 V}{\\partial S^2}\\Delta S^2 )$$\n",
    "\n",
    "Omitting second order time derivatives we get the higher order Ito's Lemma:\n",
    "\n",
    "$$ dV(S,t)=\\frac{\\partial V}{\\partial t} dt + \\frac{\\partial V}{\\partial S} dS +  \\frac{1}{2} \\frac{\\partial^2 V}{\\partial S^2} dS^2 $$\n",
    "But we can derive that:\\\n",
    "$$dS^2 = (\\mu S dt + \\sigma S dX)^2 = (\\mu S)^2 dt^2 + (\\sigma S)^2 dX^2 + 2(\\mu S)( \\sigma S) dtdX  \\approx (\\sigma S)^2 dX^2$$\n",
    "\n",
    "We substitute $ dS $ and $dS^2$ in $dV(S,t)$ and finally we get:\n",
    "$$ dV(S,t)=\\frac{\\partial V}{\\partial t} dt + \\frac{\\partial V}{\\partial S}  (\\mu S dt + \\sigma S dX) +  \\frac{1}{2} (\\sigma S)^2 \\frac{\\partial^2 V}{\\partial S^2} dX^2 $$\n",
    "\n",
    "$$ dV(S,t)=\\frac{\\partial V}{\\partial t} dt + \\mu S \\frac{\\partial V}{\\partial S}  dt + \\sigma S \\frac{\\partial V}{\\partial S}  dX +  \\frac{1}{2} (\\sigma S)^2 \\frac{\\partial^2 V}{\\partial S^2} dt $$\n",
    "\n",
    "$$ dV(S,t)= \\bigg(\\frac{\\partial V}{\\partial t}  + \\mu S \\frac{\\partial V}{\\partial S}  + \\frac{1}{2} \\sigma^2 S^2 \\frac{\\partial^2 V}{\\partial S^2} \\bigg) dt + \\sigma S \\frac{\\partial V}{\\partial S}  dX $$\n"
   ]
  },
  {
   "cell_type": "code",
   "execution_count": 35,
   "metadata": {},
   "outputs": [],
   "source": [
    "%matplotlib inline"
   ]
  },
  {
   "cell_type": "code",
   "execution_count": 36,
   "metadata": {},
   "outputs": [],
   "source": [
    "import numpy as np\n",
    "import numpy.random as npr\n",
    "import scipy\n",
    "import matplotlib.pyplot as plt"
   ]
  },
  {
   "cell_type": "code",
   "execution_count": 42,
   "metadata": {},
   "outputs": [],
   "source": [
    "def brownian_motion(dt=0.1,X0=0,N=1000):\n",
    "    \n",
    "    W = np.zeros(N+1)\n",
    "\n",
    "    #we create N+1 timesteps: t=0,1,2,3...N\n",
    "    t = np.linspace(0, N, N+1);\n",
    "\n",
    "    #we have to use cumulative sum: on every step the additional value is\n",
    "    #drawn from a normal distribution with mean 0 and variance dt ... N(0,dt)\n",
    "    #by the way: N(0,dt) = sqrt(dt)*N(0,1) usually this formula is used !!!\n",
    "    \n",
    "    W[1:N+1] = np.cumsum(np.random.normal(0,dt,N))\n",
    "\n",
    "    return t,W"
   ]
  },
  {
   "cell_type": "code",
   "execution_count": 52,
   "metadata": {},
   "outputs": [],
   "source": [
    "def plot_brownian_motion(t,W):\n",
    "    plt.figure(figsize=(10,7))\n",
    "    plt.plot(t,W)\n",
    "    plt.xlabel('Time(t)')\n",
    "    plt.ylabel('Winer-process W(t)')\n",
    "    plt.title('Wiener-process')\n",
    "    plt.show()"
   ]
  },
  {
   "cell_type": "code",
   "execution_count": null,
   "metadata": {},
   "outputs": [],
   "source": [
    "# T,w = brownian_motion(0.1,0,10000)\n",
    "plot_brownian_motion(T,w)"
   ]
  },
  {
   "cell_type": "markdown",
   "metadata": {},
   "source": [
    "## Black Scholes Model"
   ]
  },
  {
   "cell_type": "markdown",
   "metadata": {},
   "source": [
    "The options variation:\\\n",
    "$$ dV(S,t)= \\bigg(\\frac{\\partial V}{\\partial t}  + \\mu S \\frac{\\partial V}{\\partial S}  + \\frac{1}{2} \\sigma^2 S^2 \\frac{\\partial^2 V}{\\partial S^2} \\bigg) dt + \\sigma S \\frac{\\partial V}{\\partial S}  dX $$\n",
    "\n",
    "Dynamic Delta Hedging: A way of eliminating risk by making\n",
    " $\\frac{\\partial V}{\\partial S} = \\Delta$\n",
    "\n",
    "Delta-Hedge Portfolio: $\\pi = V(S,t) - S\\Delta  \\longrightarrow \\pi = V(S,t) - S \\frac{\\partial V}{\\partial S}$ \n",
    "\n",
    "Portfolio differential: $ d\\pi = dV(S,t) - \\Delta dS  \\longrightarrow  d\\pi = dV(S,t) - \\frac{\\partial V}{\\partial S} dS $\n",
    "\n",
    "$$ d\\pi = \\frac{\\partial V}{\\partial t} dt + \\frac{\\partial V}{\\partial S} dS +  \\frac{1}{2} (\\sigma S)^2 \\frac{\\partial^2 V}{\\partial S^2} dt - \\Delta dS $$\n",
    "\n",
    "$$ d\\pi = \\bigg( \\frac{\\partial V}{\\partial t} +  \\frac{1}{2} \\sigma^2 S^2 \\frac{\\partial^2 V}{\\partial S^2} \\bigg)dt + \\bigg( \\frac{\\partial V}{\\partial S} - \\Delta \\bigg) dS $$\n",
    "\n",
    "$$ d\\pi = \\bigg( \\frac{\\partial V}{\\partial t} +  \\frac{1}{2} \\sigma^2 S^2 \\frac{\\partial^2 V}{\\partial S^2} \\bigg)dt ... (I) $$\n",
    "\n",
    "Deterministic Part: $\\frac{\\partial V}{\\partial t} +  \\frac{1}{2} \\sigma^2 S^2 \\frac{\\partial^2 V}{\\partial S^2}$\n",
    "\n",
    "Stochastic Part: $  \\frac{\\partial V}{\\partial S} - \\Delta  $\n",
    "\n",
    "Since $dS = \\mu S dt + \\sigma S dX$ and we eliminate $dS $ by using the Delta Hedging, we have eliminate the stochastic part of the equation, the terms that indicate the risk. So in this case we are dealing with free risk stocks or assets. Now we are dealing with risk-free rate and the principle of no arbitrage can be applied.\n",
    "\n",
    "Principle of no arbitrage:\n",
    "$$ d\\pi = r \\pi dt$$\n",
    "\n",
    "Replacing the portfolio differential: \n",
    "\n",
    "$$ d\\pi = r \\bigg(V(S,t) - S \\frac{\\partial V}{\\partial S}  \\bigg) dt ... (II)$$\n",
    "\n",
    "Matching equations (I) and (II) we get:\n",
    "\n",
    "$$ \\bigg( \\frac{\\partial V}{\\partial t} +  \\frac{1}{2} \\sigma^2 S^2 \\frac{\\partial^2 V}{\\partial S^2} \\bigg)dt = r \\bigg(V - S \\frac{\\partial V}{\\partial S} \\bigg) dt $$\n",
    "\n",
    "### We arrive at the Black Scholes equation:\n",
    "\n",
    "$$ \\frac{\\partial V}{\\partial t} +  \\frac{1}{2} \\sigma^2 S^2 \\frac{\\partial^2 V}{\\partial S^2} + rS \\frac{\\partial V}{\\partial S} - r V  =0 $$\n"
   ]
  },
  {
   "cell_type": "code",
   "execution_count": null,
   "metadata": {},
   "outputs": [],
   "source": []
  }
 ],
 "metadata": {
  "kernelspec": {
   "display_name": "Python 3",
   "language": "python",
   "name": "python3"
  },
  "language_info": {
   "codemirror_mode": {
    "name": "ipython",
    "version": 3
   },
   "file_extension": ".py",
   "mimetype": "text/x-python",
   "name": "python",
   "nbconvert_exporter": "python",
   "pygments_lexer": "ipython3",
   "version": "3.7.4"
  }
 },
 "nbformat": 4,
 "nbformat_minor": 2
}
